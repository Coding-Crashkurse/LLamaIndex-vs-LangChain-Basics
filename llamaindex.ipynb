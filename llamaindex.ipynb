{
 "cells": [
  {
   "cell_type": "code",
   "execution_count": 1,
   "metadata": {},
   "outputs": [
    {
     "name": "stdout",
     "output_type": "stream",
     "text": [
      "[Document(id_='754d0c7c-5f2a-4d8c-9b49-d45d15130280', embedding=None, metadata={'file_path': 'data\\\\text.txt', 'file_name': 'text.txt', 'file_type': 'text/plain', 'file_size': 1331, 'creation_date': '2024-02-26', 'last_modified_date': '2024-02-28', 'last_accessed_date': '2024-02-28'}, excluded_embed_metadata_keys=['file_name', 'file_type', 'file_size', 'creation_date', 'last_modified_date', 'last_accessed_date'], excluded_llm_metadata_keys=['file_name', 'file_type', 'file_size', 'creation_date', 'last_modified_date', 'last_accessed_date'], relationships={}, text='Q: What makes our pizza unique?\\nA: Our pizzas are made with a secret family recipe for the dough, hand-tossed, and topped with fresh, locally-sourced ingredients. We use a traditional wood-fired oven to give our pizzas a distinctive smoky flavor and crisp crust.\\n\\nQ: Do we offer gluten-free pizza options?\\nA: Yes, we offer a delicious gluten-free crust option for our guests with dietary restrictions or preferences.\\n\\nQ: Can customers create their own pizza?\\nA: Absolutely! Customers can choose from a variety of fresh toppings to create their own unique pizza masterpiece.\\n\\nQ: What are our most popular pizzas?\\nA: Our most popular pizzas include the Classic Margherita, Pepperoni Supreme, and the Gourmet Vegetarian. Each offers a unique blend of flavors that cater to a variety of tastes.\\n\\nQ: Do we offer vegan pizza options?\\nA: Yes, we have vegan pizza options which include dairy-free cheese and a variety of fresh vegetable toppings.\\n\\nQ: How long does it take to prepare a pizza?\\nA: On average, it takes about 15-20 minutes from the time you order until your pizza is ready. This time ensures that each pizza is cooked to perfection.\\n\\nQ: Can customers order pizza for delivery?\\nA: Yes, we offer delivery services within a certain radius of our restaurant, ensuring that you can enjoy our pizzas from the comfort of your home.\\n', start_char_idx=None, end_char_idx=None, text_template='{metadata_str}\\n\\n{content}', metadata_template='{key}: {value}', metadata_seperator='\\n')]\n",
      "Q: What makes our pizza unique?\n",
      "A: Our pizzas are made with a secret family recipe for the dough, hand-tossed, and topped with fresh, locally-sourced ingredients. We use a traditional wood-fired oven to give our pizzas a distinctive smoky flavor and crisp crust.\n",
      "\n",
      "Q: Do we offer gluten-free pizza options?\n",
      "A: Yes, we offer a delicious gluten-free crust option for our guests with dietary restrictions or preferences.\n",
      "\n",
      "Q: Can customers create their own pizza?\n",
      "A: Absolutely! Customers can choose from a variety of fresh toppings to create their own unique pizza masterpiece.\n",
      "\n",
      "Q: What are our most popular pizzas?\n",
      "A: Our most popular pizzas include the Classic Margherita, Pepperoni Supreme, and the Gourmet Vegetarian. Each offers a unique blend of flavors that cater to a variety of tastes.\n",
      "\n",
      "Q: Do we offer vegan pizza options?\n",
      "A: Yes, we have vegan pizza options which include dairy-free cheese and a variety of fresh vegetable toppings.\n",
      "\n",
      "Q: How long does it take to prepare a pizza?\n",
      "A: On average, it takes about 15-20 minutes from the time you order until your pizza is ready. This time ensures that each pizza is cooked to perfection.\n",
      "\n",
      "Q: Can customers order pizza for delivery?\n",
      "A: Yes, we offer delivery services within a certain radius of our restaurant, ensuring that you can enjoy our pizzas from the comfort of your home.\n",
      "\n"
     ]
    }
   ],
   "source": [
    "from llama_index.core import VectorStoreIndex, SimpleDirectoryReader\n",
    "from llama_index.llms.openai import OpenAI\n",
    "from llama_index.core import Settings\n",
    "from dotenv import load_dotenv\n",
    "\n",
    "load_dotenv()\n",
    "\n",
    "documents = SimpleDirectoryReader(\"data\").load_data()\n",
    "print(documents)\n",
    "print(documents[0].text)"
   ]
  },
  {
   "cell_type": "code",
   "execution_count": 2,
   "metadata": {},
   "outputs": [],
   "source": [
    "from llama_index.core.node_parser import SentenceSplitter\n",
    "\n",
    "text_splitter = SentenceSplitter(chunk_size=200, chunk_overlap=10)\n",
    "nodes = text_splitter.get_nodes_from_documents(documents=documents)\n"
   ]
  },
  {
   "cell_type": "code",
   "execution_count": 3,
   "metadata": {},
   "outputs": [
    {
     "data": {
      "text/plain": [
       "[TextNode(id_='f6fda4e3-f93f-4658-862a-0d817b14220d', embedding=None, metadata={'file_path': 'data\\\\text.txt', 'file_name': 'text.txt', 'file_type': 'text/plain', 'file_size': 1331, 'creation_date': '2024-02-26', 'last_modified_date': '2024-02-28', 'last_accessed_date': '2024-02-28'}, excluded_embed_metadata_keys=['file_name', 'file_type', 'file_size', 'creation_date', 'last_modified_date', 'last_accessed_date'], excluded_llm_metadata_keys=['file_name', 'file_type', 'file_size', 'creation_date', 'last_modified_date', 'last_accessed_date'], relationships={<NodeRelationship.SOURCE: '1'>: RelatedNodeInfo(node_id='754d0c7c-5f2a-4d8c-9b49-d45d15130280', node_type=<ObjectType.DOCUMENT: '4'>, metadata={'file_path': 'data\\\\text.txt', 'file_name': 'text.txt', 'file_type': 'text/plain', 'file_size': 1331, 'creation_date': '2024-02-26', 'last_modified_date': '2024-02-28', 'last_accessed_date': '2024-02-28'}, hash='adaca48c53952d4ceb54e0e41396ea411d485d1baa5dcf32a8f55f4d265c6d62'), <NodeRelationship.NEXT: '3'>: RelatedNodeInfo(node_id='c0bd1a8c-24d3-4a7b-9e31-8157a51a6026', node_type=<ObjectType.TEXT: '1'>, metadata={}, hash='d6fd89f31ce0f0ab331b4255fe32cea116136ba82046dd01ba54b715a8474576')}, text='Q: What makes our pizza unique?\\nA: Our pizzas are made with a secret family recipe for the dough, hand-tossed, and topped with fresh, locally-sourced ingredients. We use a traditional wood-fired oven to give our pizzas a distinctive smoky flavor and crisp crust.\\n\\nQ: Do we offer gluten-free pizza options?\\nA: Yes, we offer a delicious gluten-free crust option for our guests with dietary restrictions or preferences.\\n\\nQ: Can customers create their own pizza?\\nA: Absolutely! Customers can choose from a variety of fresh toppings to create their own unique pizza masterpiece.\\n\\nQ: What are our most popular pizzas?\\nA: Our most popular pizzas include the Classic Margherita, Pepperoni Supreme, and the Gourmet Vegetarian. Each offers a unique blend of flavors that cater to a variety of tastes.\\n\\nQ: Do we offer vegan pizza options?', start_char_idx=0, end_char_idx=827, text_template='{metadata_str}\\n\\n{content}', metadata_template='{key}: {value}', metadata_seperator='\\n'),\n",
       " TextNode(id_='c0bd1a8c-24d3-4a7b-9e31-8157a51a6026', embedding=None, metadata={'file_path': 'data\\\\text.txt', 'file_name': 'text.txt', 'file_type': 'text/plain', 'file_size': 1331, 'creation_date': '2024-02-26', 'last_modified_date': '2024-02-28', 'last_accessed_date': '2024-02-28'}, excluded_embed_metadata_keys=['file_name', 'file_type', 'file_size', 'creation_date', 'last_modified_date', 'last_accessed_date'], excluded_llm_metadata_keys=['file_name', 'file_type', 'file_size', 'creation_date', 'last_modified_date', 'last_accessed_date'], relationships={<NodeRelationship.SOURCE: '1'>: RelatedNodeInfo(node_id='754d0c7c-5f2a-4d8c-9b49-d45d15130280', node_type=<ObjectType.DOCUMENT: '4'>, metadata={'file_path': 'data\\\\text.txt', 'file_name': 'text.txt', 'file_type': 'text/plain', 'file_size': 1331, 'creation_date': '2024-02-26', 'last_modified_date': '2024-02-28', 'last_accessed_date': '2024-02-28'}, hash='adaca48c53952d4ceb54e0e41396ea411d485d1baa5dcf32a8f55f4d265c6d62'), <NodeRelationship.PREVIOUS: '2'>: RelatedNodeInfo(node_id='f6fda4e3-f93f-4658-862a-0d817b14220d', node_type=<ObjectType.TEXT: '1'>, metadata={'file_path': 'data\\\\text.txt', 'file_name': 'text.txt', 'file_type': 'text/plain', 'file_size': 1331, 'creation_date': '2024-02-26', 'last_modified_date': '2024-02-28', 'last_accessed_date': '2024-02-28'}, hash='d835bac01d76f9b74f3dbd506964f6be578249164d382743341aa3dcade9d6b4')}, text='Q: Do we offer vegan pizza options?\\nA: Yes, we have vegan pizza options which include dairy-free cheese and a variety of fresh vegetable toppings.\\n\\nQ: How long does it take to prepare a pizza?\\nA: On average, it takes about 15-20 minutes from the time you order until your pizza is ready. This time ensures that each pizza is cooked to perfection.\\n\\nQ: Can customers order pizza for delivery?\\nA: Yes, we offer delivery services within a certain radius of our restaurant, ensuring that you can enjoy our pizzas from the comfort of your home.', start_char_idx=792, end_char_idx=1330, text_template='{metadata_str}\\n\\n{content}', metadata_template='{key}: {value}', metadata_seperator='\\n')]"
      ]
     },
     "execution_count": 3,
     "metadata": {},
     "output_type": "execute_result"
    }
   ],
   "source": [
    "nodes"
   ]
  },
  {
   "cell_type": "code",
   "execution_count": 4,
   "metadata": {},
   "outputs": [
    {
     "name": "stdout",
     "output_type": "stream",
     "text": [
      "1\n",
      "2\n"
     ]
    }
   ],
   "source": [
    "print(len(documents))\n",
    "print(len(nodes))"
   ]
  },
  {
   "cell_type": "code",
   "execution_count": 5,
   "metadata": {},
   "outputs": [],
   "source": [
    "from llama_index.vector_stores.chroma import ChromaVectorStore\n",
    "import chromadb\n",
    "from llama_index.core import StorageContext\n",
    "from llama_index.embeddings.openai import OpenAIEmbedding\n",
    "\n",
    "chroma_client = chromadb.EphemeralClient()\n",
    "chroma_collection = chroma_client.create_collection(\"tes1233t\")\n",
    "vector_store = ChromaVectorStore(chroma_collection=chroma_collection)\n",
    "storage_context = StorageContext.from_defaults(vector_store=vector_store)"
   ]
  },
  {
   "cell_type": "code",
   "execution_count": 6,
   "metadata": {},
   "outputs": [],
   "source": [
    "index = VectorStoreIndex.from_documents(\n",
    "    documents, storage_context=storage_context, embed_model=OpenAIEmbedding()\n",
    ")"
   ]
  },
  {
   "cell_type": "code",
   "execution_count": 7,
   "metadata": {},
   "outputs": [],
   "source": [
    "index = VectorStoreIndex(nodes=nodes, storage_context=storage_context, embed_model=OpenAIEmbedding())"
   ]
  },
  {
   "cell_type": "code",
   "execution_count": 8,
   "metadata": {},
   "outputs": [],
   "source": [
    "retriever = index.as_retriever()"
   ]
  },
  {
   "cell_type": "code",
   "execution_count": 9,
   "metadata": {},
   "outputs": [
    {
     "data": {
      "text/plain": [
       "[NodeWithScore(node=TextNode(id_='c0bd1a8c-24d3-4a7b-9e31-8157a51a6026', embedding=None, metadata={'file_path': 'data\\\\text.txt', 'file_name': 'text.txt', 'file_type': 'text/plain', 'file_size': 1331, 'creation_date': '2024-02-26', 'last_modified_date': '2024-02-28', 'last_accessed_date': '2024-02-28'}, excluded_embed_metadata_keys=['file_name', 'file_type', 'file_size', 'creation_date', 'last_modified_date', 'last_accessed_date'], excluded_llm_metadata_keys=['file_name', 'file_type', 'file_size', 'creation_date', 'last_modified_date', 'last_accessed_date'], relationships={<NodeRelationship.SOURCE: '1'>: RelatedNodeInfo(node_id='754d0c7c-5f2a-4d8c-9b49-d45d15130280', node_type=<ObjectType.DOCUMENT: '4'>, metadata={'file_path': 'data\\\\text.txt', 'file_name': 'text.txt', 'file_type': 'text/plain', 'file_size': 1331, 'creation_date': '2024-02-26', 'last_modified_date': '2024-02-28', 'last_accessed_date': '2024-02-28'}, hash='adaca48c53952d4ceb54e0e41396ea411d485d1baa5dcf32a8f55f4d265c6d62'), <NodeRelationship.PREVIOUS: '2'>: RelatedNodeInfo(node_id='f6fda4e3-f93f-4658-862a-0d817b14220d', node_type=<ObjectType.TEXT: '1'>, metadata={'file_path': 'data\\\\text.txt', 'file_name': 'text.txt', 'file_type': 'text/plain', 'file_size': 1331, 'creation_date': '2024-02-26', 'last_modified_date': '2024-02-28', 'last_accessed_date': '2024-02-28'}, hash='d835bac01d76f9b74f3dbd506964f6be578249164d382743341aa3dcade9d6b4')}, text='Q: Do we offer vegan pizza options?\\nA: Yes, we have vegan pizza options which include dairy-free cheese and a variety of fresh vegetable toppings.\\n\\nQ: How long does it take to prepare a pizza?\\nA: On average, it takes about 15-20 minutes from the time you order until your pizza is ready. This time ensures that each pizza is cooked to perfection.\\n\\nQ: Can customers order pizza for delivery?\\nA: Yes, we offer delivery services within a certain radius of our restaurant, ensuring that you can enjoy our pizzas from the comfort of your home.', start_char_idx=792, end_char_idx=1330, text_template='{metadata_str}\\n\\n{content}', metadata_template='{key}: {value}', metadata_seperator='\\n'), score=0.7702654186697226),\n",
       " NodeWithScore(node=TextNode(id_='73b59a29-701b-4b0a-ac71-f44aede96453', embedding=None, metadata={'file_path': 'data\\\\text.txt', 'file_name': 'text.txt', 'file_type': 'text/plain', 'file_size': 1331, 'creation_date': '2024-02-26', 'last_modified_date': '2024-02-28', 'last_accessed_date': '2024-02-28'}, excluded_embed_metadata_keys=['file_name', 'file_type', 'file_size', 'creation_date', 'last_modified_date', 'last_accessed_date'], excluded_llm_metadata_keys=['file_name', 'file_type', 'file_size', 'creation_date', 'last_modified_date', 'last_accessed_date'], relationships={<NodeRelationship.SOURCE: '1'>: RelatedNodeInfo(node_id='754d0c7c-5f2a-4d8c-9b49-d45d15130280', node_type=<ObjectType.DOCUMENT: '4'>, metadata={'file_path': 'data\\\\text.txt', 'file_name': 'text.txt', 'file_type': 'text/plain', 'file_size': 1331, 'creation_date': '2024-02-26', 'last_modified_date': '2024-02-28', 'last_accessed_date': '2024-02-28'}, hash='adaca48c53952d4ceb54e0e41396ea411d485d1baa5dcf32a8f55f4d265c6d62')}, text='Q: What makes our pizza unique?\\nA: Our pizzas are made with a secret family recipe for the dough, hand-tossed, and topped with fresh, locally-sourced ingredients. We use a traditional wood-fired oven to give our pizzas a distinctive smoky flavor and crisp crust.\\n\\nQ: Do we offer gluten-free pizza options?\\nA: Yes, we offer a delicious gluten-free crust option for our guests with dietary restrictions or preferences.\\n\\nQ: Can customers create their own pizza?\\nA: Absolutely! Customers can choose from a variety of fresh toppings to create their own unique pizza masterpiece.\\n\\nQ: What are our most popular pizzas?\\nA: Our most popular pizzas include the Classic Margherita, Pepperoni Supreme, and the Gourmet Vegetarian. Each offers a unique blend of flavors that cater to a variety of tastes.\\n\\nQ: Do we offer vegan pizza options?\\nA: Yes, we have vegan pizza options which include dairy-free cheese and a variety of fresh vegetable toppings.\\n\\nQ: How long does it take to prepare a pizza?\\nA: On average, it takes about 15-20 minutes from the time you order until your pizza is ready. This time ensures that each pizza is cooked to perfection.\\n\\nQ: Can customers order pizza for delivery?\\nA: Yes, we offer delivery services within a certain radius of our restaurant, ensuring that you can enjoy our pizzas from the comfort of your home.', start_char_idx=0, end_char_idx=1330, text_template='{metadata_str}\\n\\n{content}', metadata_template='{key}: {value}', metadata_seperator='\\n'), score=0.7454026828253126)]"
      ]
     },
     "execution_count": 9,
     "metadata": {},
     "output_type": "execute_result"
    }
   ],
   "source": [
    "retriever.retrieve(\"How long does it take to prepare a pizza\")"
   ]
  },
  {
   "cell_type": "code",
   "execution_count": 10,
   "metadata": {},
   "outputs": [
    {
     "ename": "NameError",
     "evalue": "name 'query_engine' is not defined",
     "output_type": "error",
     "traceback": [
      "\u001b[1;31m---------------------------------------------------------------------------\u001b[0m",
      "\u001b[1;31mNameError\u001b[0m                                 Traceback (most recent call last)",
      "Cell \u001b[1;32mIn[10], line 7\u001b[0m\n\u001b[0;32m      1\u001b[0m \u001b[38;5;66;03m# llm = OpenAI(model=\"gpt-3.5-turbo\")\u001b[39;00m\n\u001b[0;32m      2\u001b[0m \n\u001b[0;32m      3\u001b[0m \u001b[38;5;66;03m# query_engine = index.as_query_engine(llm=llm)\u001b[39;00m\n\u001b[0;32m      5\u001b[0m Settings\u001b[38;5;241m.\u001b[39mllm \u001b[38;5;241m=\u001b[39m OpenAI(model\u001b[38;5;241m=\u001b[39m\u001b[38;5;124m\"\u001b[39m\u001b[38;5;124mgpt-3.5-turbo\u001b[39m\u001b[38;5;124m\"\u001b[39m)\n\u001b[1;32m----> 7\u001b[0m \u001b[43mquery_engine\u001b[49m\u001b[38;5;241m.\u001b[39mquery(\u001b[38;5;124m\"\u001b[39m\u001b[38;5;124mHow long does it take to prepare a pizza\u001b[39m\u001b[38;5;124m\"\u001b[39m)\n",
      "\u001b[1;31mNameError\u001b[0m: name 'query_engine' is not defined"
     ]
    }
   ],
   "source": [
    "# llm = OpenAI(model=\"gpt-3.5-turbo\")\n",
    "\n",
    "# query_engine = index.as_query_engine(llm=llm)\n",
    "\n",
    "Settings.llm = OpenAI(model=\"gpt-3.5-turbo\")\n",
    "\n",
    "query_engine.query(\"How long does it take to prepare a pizza\")"
   ]
  },
  {
   "cell_type": "code",
   "execution_count": null,
   "metadata": {},
   "outputs": [],
   "source": [
    "prompts_dict = query_engine.get_prompts()\n",
    "print(prompts_dict)"
   ]
  },
  {
   "cell_type": "code",
   "execution_count": null,
   "metadata": {},
   "outputs": [],
   "source": [
    "from llama_index.core import PromptTemplate\n",
    "\n",
    "\n",
    "new_summary_tmpl_str = (\n",
    "    \"You always say 'Hello my friend' at the beginning of your answer. Below you find data from a database\\n\"\n",
    "    \"{context_str}\\n\"\n",
    "    \"Take that context and try to answer the question with it.\"\n",
    "    \"Query: {query_str}\\n\"\n",
    "    \"Answer: \"\n",
    ")\n",
    "new_summary_tmpl = PromptTemplate(new_summary_tmpl_str)"
   ]
  },
  {
   "cell_type": "code",
   "execution_count": null,
   "metadata": {},
   "outputs": [],
   "source": [
    "query_engine.update_prompts(\n",
    "    {\"response_synthesizer:text_qa_template\": new_summary_tmpl}\n",
    ")"
   ]
  },
  {
   "cell_type": "code",
   "execution_count": null,
   "metadata": {},
   "outputs": [],
   "source": [
    "prompts_dict = query_engine.get_prompts()\n",
    "print(prompts_dict)"
   ]
  },
  {
   "cell_type": "code",
   "execution_count": null,
   "metadata": {},
   "outputs": [],
   "source": [
    "query_engine.query(\"How long does it take to prepare a pizza\")"
   ]
  }
 ],
 "metadata": {
  "kernelspec": {
   "display_name": "app",
   "language": "python",
   "name": "python3"
  },
  "language_info": {
   "codemirror_mode": {
    "name": "ipython",
    "version": 3
   },
   "file_extension": ".py",
   "mimetype": "text/x-python",
   "name": "python",
   "nbconvert_exporter": "python",
   "pygments_lexer": "ipython3",
   "version": "3.11.0"
  }
 },
 "nbformat": 4,
 "nbformat_minor": 2
}
